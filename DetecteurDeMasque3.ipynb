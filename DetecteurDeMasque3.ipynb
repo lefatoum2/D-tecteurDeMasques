{
 "cells": [
  {
   "cell_type": "markdown",
   "metadata": {},
   "source": [
    "# Data Processing"
   ]
  },
  {
   "cell_type": "code",
   "execution_count": 2,
   "metadata": {},
   "outputs": [
    {
     "name": "stdout",
     "output_type": "stream",
     "text": [
      "{'with mask': 0, 'without mask': 1}\n",
      "['with mask', 'without mask']\n",
      "[0, 1]\n"
     ]
    }
   ],
   "source": [
    "import cv2,os\n",
    "\n",
    "# Chargement des données dans categories\n",
    "data_path=r'dataset'\n",
    "categories=os.listdir(data_path)\n",
    "# Liste des labels associés aux dossiers \"with mask\" and \"without mask\"\n",
    "labels=[i for i in range(len(categories))]\n",
    "\n",
    "# On crée un dictionnaire avec categories et labels\n",
    "label_dict=dict(zip(categories,labels)) \n",
    "\n",
    "print(label_dict)\n",
    "print(categories)\n",
    "print(labels)"
   ]
  },
  {
   "cell_type": "code",
   "execution_count": 3,
   "metadata": {},
   "outputs": [],
   "source": [
    "img_size=100\n",
    "# Création de la cible et du jeu de données\n",
    "data=[]\n",
    "target=[]\n",
    "\n",
    "\n",
    "for category in categories:\n",
    "    folder_path=os.path.join(data_path,category)\n",
    "    img_names=os.listdir(folder_path)\n",
    "     \n",
    "     # Chargement image par image     \n",
    "    for img_name in img_names:\n",
    "        img_path=os.path.join(folder_path,img_name)\n",
    "        img=cv2.imread(img_path)\n",
    "\n",
    "        try:\n",
    "            # Transformation de l'image en gris\n",
    "            gray=cv2.cvtColor(img,cv2.COLOR_BGR2GRAY)           \n",
    "            # redimensionnement de l'image 100x100\n",
    "            resized=cv2.resize(gray,(img_size,img_size))\n",
    "            \n",
    "            # Mise dans deux listes différentes de la cible et du jeu de donneées\n",
    "            data.append(resized)\n",
    "            target.append(label_dict[category])\n",
    "\n",
    "        # Exception pour des images altérées\n",
    "        except Exception as e:\n",
    "            print('Exception:',e)\n",
    "            #if any exception rasied, the exception will be printed here. And pass to the next image"
   ]
  },
  {
   "cell_type": "code",
   "execution_count": 4,
   "metadata": {},
   "outputs": [],
   "source": [
    "import numpy as np\n",
    "\n",
    "data=np.array(data)/255.0\n",
    "# Redimensionnement de l'image de 2D en 4D\n",
    "data=np.reshape(data,(data.shape[0],img_size,img_size,1))\n",
    "target=np.array(target)\n",
    "\n",
    "from keras.utils import np_utils\n",
    "\n",
    "# On classe l'image soit en \"whithout mask\" ou \"with mask\"\n",
    "new_target=np_utils.to_categorical(target)"
   ]
  },
  {
   "cell_type": "code",
   "execution_count": 5,
   "metadata": {},
   "outputs": [],
   "source": [
    "# Enregistrement des images\n",
    "np.save('data',data)\n",
    "\n",
    "# Enregistrement des labels \"whithout mask\" et \"with mask\" correspondant aux images\n",
    "np.save('target',new_target)"
   ]
  },
  {
   "cell_type": "markdown",
   "metadata": {},
   "source": [
    "# CNN"
   ]
  },
  {
   "cell_type": "code",
   "execution_count": 7,
   "metadata": {},
   "outputs": [],
   "source": [
    "import numpy as np\n",
    "# Chargement des images et des labels  \"whithout mask\" et \"with mask\"\n",
    "data=np.load(r'data.npy')\n",
    "target=np.load(r'target.npy')"
   ]
  },
  {
   "cell_type": "code",
   "execution_count": 8,
   "metadata": {},
   "outputs": [],
   "source": [
    "from keras.models import Sequential\n",
    "from keras.layers import Dense,Activation,Flatten,Dropout\n",
    "from keras.layers import Conv2D,MaxPooling2D\n",
    "from keras.callbacks import ModelCheckpoint\n",
    "\n",
    "# Instance ajoutant les couches CNN en séquence\n",
    "model=Sequential()\n",
    "\n",
    "# Première couche avec 200 kernels suivi par Relu et les couches MaxPooling \n",
    "model.add(Conv2D(200,(3,3),input_shape=data.shape[1:]))\n",
    "model.add(Activation('relu'))\n",
    "model.add(MaxPooling2D(pool_size=(2,2)))\n",
    "\n",
    "# Deuxième couche avec 100 kernels suivi par Relu et les couches MaxPooling \n",
    "model.add(Conv2D(100,(3,3)))\n",
    "model.add(Activation('relu'))\n",
    "model.add(MaxPooling2D(pool_size=(2,2)))\n",
    "\n",
    "# Une couche Flatten pour empiler les couches de convolution  \n",
    "model.add(Flatten())\n",
    "model.add(Dropout(0.5))\n",
    "\n",
    "# Activation de la couche relu\n",
    "model.add(Dense(50,activation='relu'))\n",
    "#Couche dense de 64 neurones\n",
    "model.add(Dense(2,activation='softmax'))\n",
    "# Cette dernière couche sépare en deux catégories les données \n",
    "\n",
    "# Affichage de l'accuracy durant l'apprentissage\n",
    "model.compile(loss='categorical_crossentropy',optimizer='adam',metrics=['accuracy'])"
   ]
  },
  {
   "cell_type": "code",
   "execution_count": 9,
   "metadata": {},
   "outputs": [],
   "source": [
    "from sklearn.model_selection import train_test_split\n",
    "\n",
    "# Fractionnement du jeu de données (90% de jeu d'entraînement, 10% jeu de test)\n",
    "\n",
    "train_data,test_data,train_target,test_target=train_test_split(data,target,test_size=0.1)"
   ]
  },
  {
   "cell_type": "code",
   "execution_count": 10,
   "metadata": {},
   "outputs": [
    {
     "name": "stdout",
     "output_type": "stream",
     "text": [
      "Epoch 1/20\n",
      "27/27 [==============================] - 141s 5s/step - loss: 0.7634 - accuracy: 0.5242 - val_loss: 0.6340 - val_accuracy: 0.5787\n",
      "INFO:tensorflow:Assets written to: model-001.model\\assets\n",
      "Epoch 2/20\n",
      "27/27 [==============================] - 134s 5s/step - loss: 0.5405 - accuracy: 0.7284 - val_loss: 0.5409 - val_accuracy: 0.7546\n",
      "INFO:tensorflow:Assets written to: model-002.model\\assets\n",
      "Epoch 3/20\n",
      "27/27 [==============================] - 142s 5s/step - loss: 0.3522 - accuracy: 0.8504 - val_loss: 0.3134 - val_accuracy: 0.8611\n",
      "INFO:tensorflow:Assets written to: model-003.model\\assets\n",
      "Epoch 4/20\n",
      "27/27 [==============================] - 130s 5s/step - loss: 0.2093 - accuracy: 0.9228 - val_loss: 0.2559 - val_accuracy: 0.9028\n",
      "INFO:tensorflow:Assets written to: model-004.model\\assets\n",
      "Epoch 5/20\n",
      "27/27 [==============================] - 136s 5s/step - loss: 0.1237 - accuracy: 0.9668 - val_loss: 0.2116 - val_accuracy: 0.9213\n",
      "INFO:tensorflow:Assets written to: model-005.model\\assets\n",
      "Epoch 6/20\n",
      "27/27 [==============================] - 130s 5s/step - loss: 0.1102 - accuracy: 0.9543 - val_loss: 0.2128 - val_accuracy: 0.9259\n",
      "Epoch 7/20\n",
      "27/27 [==============================] - 125s 5s/step - loss: 0.0505 - accuracy: 0.9866 - val_loss: 0.2221 - val_accuracy: 0.9259\n",
      "Epoch 8/20\n",
      "27/27 [==============================] - 121s 5s/step - loss: 0.0424 - accuracy: 0.9874 - val_loss: 0.2186 - val_accuracy: 0.9352\n",
      "Epoch 9/20\n",
      "27/27 [==============================] - 131s 5s/step - loss: 0.0417 - accuracy: 0.9844 - val_loss: 0.3453 - val_accuracy: 0.8889\n",
      "Epoch 10/20\n",
      "27/27 [==============================] - 121s 5s/step - loss: 0.0943 - accuracy: 0.9582 - val_loss: 0.2522 - val_accuracy: 0.9259\n",
      "Epoch 11/20\n",
      "27/27 [==============================] - 120s 4s/step - loss: 0.0395 - accuracy: 0.9944 - val_loss: 0.2391 - val_accuracy: 0.9398\n",
      "Epoch 12/20\n",
      "27/27 [==============================] - 119s 4s/step - loss: 0.0238 - accuracy: 0.9887 - val_loss: 0.2259 - val_accuracy: 0.9491\n",
      "Epoch 13/20\n",
      "27/27 [==============================] - 115s 4s/step - loss: 0.0191 - accuracy: 0.9930 - val_loss: 0.2987 - val_accuracy: 0.9306\n",
      "Epoch 14/20\n",
      "27/27 [==============================] - 113s 4s/step - loss: 0.0071 - accuracy: 0.9990 - val_loss: 0.3279 - val_accuracy: 0.9167\n",
      "Epoch 15/20\n",
      "27/27 [==============================] - 115s 4s/step - loss: 0.0186 - accuracy: 0.9939 - val_loss: 0.2406 - val_accuracy: 0.9491\n",
      "Epoch 16/20\n",
      "27/27 [==============================] - 113s 4s/step - loss: 0.0200 - accuracy: 0.9979 - val_loss: 0.2600 - val_accuracy: 0.9537\n",
      "Epoch 17/20\n",
      "27/27 [==============================] - 113s 4s/step - loss: 0.0122 - accuracy: 0.9979 - val_loss: 0.3143 - val_accuracy: 0.9398\n",
      "Epoch 18/20\n",
      "27/27 [==============================] - 115s 4s/step - loss: 0.0201 - accuracy: 0.9911 - val_loss: 0.2640 - val_accuracy: 0.9352\n",
      "Epoch 19/20\n",
      "27/27 [==============================] - 111s 4s/step - loss: 0.0192 - accuracy: 0.9947 - val_loss: 0.2595 - val_accuracy: 0.9398\n",
      "Epoch 20/20\n",
      "27/27 [==============================] - 116s 4s/step - loss: 0.0041 - accuracy: 0.9996 - val_loss: 0.2679 - val_accuracy: 0.9444\n"
     ]
    }
   ],
   "source": [
    "# Enregistrement des meilleurs modèles\n",
    "# Vérification des répertoires des Epoch\n",
    "checkpoint = ModelCheckpoint('model-{epoch:03d}.model',monitor='val_loss',verbose=0,save_best_only=True,mode='auto')\n",
    "history=model.fit(train_data,train_target,epochs=20,callbacks=[checkpoint],validation_split=0.2)"
   ]
  },
  {
   "cell_type": "markdown",
   "metadata": {},
   "source": [
    "# Mask Detection"
   ]
  },
  {
   "cell_type": "code",
   "execution_count": 3,
   "metadata": {},
   "outputs": [],
   "source": [
    "from keras.models import load_model\n",
    "import cv2\n",
    "import numpy as np"
   ]
  },
  {
   "cell_type": "code",
   "execution_count": 4,
   "metadata": {},
   "outputs": [],
   "source": [
    "from pygame import mixer \n",
    "import time\n",
    "\n",
    "happy = cv2.imread('./care-emoji-open-eye-fb-2.png')\n",
    "\n",
    "def son():\n",
    "    # Création de l'instance\n",
    "    mixer.init() \n",
    "    # Chargement de la musique\n",
    "    mixer.music.load(\"radar1.wav\") \n",
    "    # Réglage du volume\n",
    "    mixer.music.set_volume(0.7) \n",
    "    # Lancer la musique\n",
    "    mixer.music.play() \n",
    "    time.sleep(10)\n",
    "    mixer.music.stop()\n",
    "    \n",
    "# Afficher l'emoji\n",
    "def afficher_emo():\n",
    "    img = cv2.imread('thumbs-up-4007573_640.png',0)\n",
    "    cv2.imshow('image',img)\n",
    "    cv2.waitKey(1000)\n",
    "    cv2.destroyAllWindows()   "
   ]
  },
  {
   "cell_type": "code",
   "execution_count": 12,
   "metadata": {},
   "outputs": [],
   "source": [
    "# Chargement du meilleur modèle\n",
    "model = load_model(r'model-005.model')\n",
    "source=cv2.VideoCapture(2)\n",
    "\n",
    "# Dictionnaire des labels\n",
    "labels_dict={0:'MASK',1:'NO MASK'}\n",
    "# Dictionnaire des RBG \n",
    "color_dict={0:(0,255,0),1:(0,0,255)}\n",
    "\n",
    "# Cascade pour la détection d'image\n",
    "face_clsfr=cv2.CascadeClassifier(cv2.data.haarcascades + \"haarcascade_frontalface_default.xml\")\n",
    "video_capture = cv2.VideoCapture(0)\n",
    "\n",
    "while(True):\n",
    "    # Capture de la vidéo en image ou frame\n",
    "    ret, img = video_capture.read()\n",
    "    gray = cv2.cvtColor(img,cv2.COLOR_BGR2GRAY)\n",
    "    faces=face_clsfr.detectMultiScale(gray,1.3,5)  \n",
    "\n",
    "     # Lancement du modèle pour chaque face détectée\n",
    "    for (x,y,w,h) in faces:\n",
    "         # Stockage de l'image ou face\n",
    "        face_img=gray[y:y+w,x:x+w]\n",
    "        # Redimensionnement de l'image en 100x100\n",
    "        resized=cv2.resize(face_img,(100,100))\n",
    "        normalized=resized/255.0\n",
    "        # Convertion de l'image 4D dans un tableau(array)\n",
    "        reshaped=np.reshape(normalized,(1,100,100,1))\n",
    "         # Chargement du modèle pour une prédiction\n",
    "        result=model.predict(reshaped)\n",
    "        # Résultat de la prédiction (soit label \"whithout mask\" soit label \"with mask\")\n",
    "        label=np.argmax(result,axis=1)[0]\n",
    "        \n",
    "        # Condition avec masque et sans masque   \n",
    "        cv2.rectangle(img,(x,y),(x+w,y+h),color_dict[label],2)\n",
    "        cv2.rectangle(img,(x,y-40),(x+w,y),color_dict[label],-1)\n",
    "        cv2.putText(img, labels_dict[label], (x, y-10),cv2.FONT_HERSHEY_SIMPLEX,0.8,(255,255,255),2)\n",
    "        \n",
    "        # Son ou emoji selon le label\n",
    "        if labels_dict[label] == 'NO MASK':\n",
    "            son()\n",
    "        else:\n",
    "            afficher_emo()\n",
    "            \n",
    "    # Visionnage de la caméra en direct         \n",
    "    cv2.imshow('LIVE',img)\n",
    "    key=cv2.waitKey(1)\n",
    "    \n",
    "    if(key==27):\n",
    "        break\n",
    "        \n",
    "# Destruction de la fenêtre et fermeture de la caméra         \n",
    "cv2.destroyAllWindows()\n",
    "video_capture.release()\n",
    "source.release()"
   ]
  },
  {
   "cell_type": "code",
   "execution_count": null,
   "metadata": {},
   "outputs": [],
   "source": []
  }
 ],
 "metadata": {
  "kernelspec": {
   "display_name": "Python 3",
   "language": "python",
   "name": "python3"
  },
  "language_info": {
   "codemirror_mode": {
    "name": "ipython",
    "version": 3
   },
   "file_extension": ".py",
   "mimetype": "text/x-python",
   "name": "python",
   "nbconvert_exporter": "python",
   "pygments_lexer": "ipython3",
   "version": "3.8.5"
  }
 },
 "nbformat": 4,
 "nbformat_minor": 4
}
